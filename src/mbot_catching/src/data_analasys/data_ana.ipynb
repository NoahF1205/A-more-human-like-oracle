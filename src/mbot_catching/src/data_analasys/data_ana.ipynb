{
 "cells": [
  {
   "cell_type": "code",
   "execution_count": 85,
   "metadata": {},
   "outputs": [],
   "source": [
    "import pandas as pd\n",
    "import os\n",
    "from scipy.stats import pearsonr\n",
    "import json\n",
    "import matplotlib.pyplot as plt\n",
    "import numpy as np"
   ]
  },
  {
   "cell_type": "code",
   "execution_count": 86,
   "metadata": {},
   "outputs": [],
   "source": [
    "def read_quatrics(file_path):\n",
    "    # read csv file\n",
    "    with open(file_path, 'r') as f:\n",
    "        data = pd.read_csv(f)\n",
    "        data = data.drop([0, 1])\n",
    "        data = data.loc[:, 'Q1':'Q20']\n",
    "    return data"
   ]
  },
  {
   "cell_type": "code",
   "execution_count": 87,
   "metadata": {},
   "outputs": [],
   "source": [
    "def euclidean_distance_to_car_difference(x1, x2):\n",
    "    # input:x1,x2: 1x8 np array\n",
    "    # first 6 are cartesian state, last 2 are car position\n",
    "    # calc x1 and x2 dist to car and return the difference\n",
    "    x1_xyz = x1[:3]\n",
    "    x2_xyz = x2[:3]\n",
    "    x1_car = x1[6:]\n",
    "    x2_car = x2[6:]\n",
    "    # from xy to xyz\n",
    "    x1_car = np.concatenate([x1_car, np.array([0.05])])\n",
    "    x2_car = np.concatenate([x2_car, np.array([0.05])])\n",
    "    dist1 = np.linalg.norm(x1_xyz - x1_car)\n",
    "    dist2 = np.linalg.norm(x2_xyz - x2_car)\n",
    "    return dist1 - dist2\n"
   ]
  },
  {
   "cell_type": "code",
   "execution_count": 88,
   "metadata": {},
   "outputs": [
    {
     "name": "stdout",
     "output_type": "stream",
     "text": [
      "[[1 1 1 1 1 1 1 1 1 1 1]\n",
      " [2 1 1 1 1 1 2 2 1 1 2]\n",
      " [6 5 5 3 5 5 5 5 6 6 6]\n",
      " [1 1 3 1 4 2 1 1 5 2 1]\n",
      " [4 4 1 2 1 4 3 4 1 3 2]\n",
      " [7 7 2 5 1 7 7 7 2 3 1]\n",
      " [2 1 3 3 3 3 3 1 1 1 3]\n",
      " [4 3 2 1 1 4 3 3 1 2 2]\n",
      " [3 4 2 4 1 3 4 3 4 3 3]\n",
      " [3 4 3 3 1 2 3 4 5 4 4]\n",
      " [5 5 2 5 3 1 5 3 4 3 5]\n",
      " [2 1 4 1 1 5 4 4 1 2 2]]\n"
     ]
    }
   ],
   "source": [
    "csv_dir = \"/home/aabl-lab/prob-rob-final/A-more-human-like-oracle/quatrics\"\n",
    "file_name = \"qualtrics-values.csv\"\n",
    "file_path = os.path.join(csv_dir, file_name)\n",
    "pd_data = read_quatrics(file_path)\n",
    "# print(pd_data)\n",
    "qualtircs_data = pd_data.apply(pd.to_numeric)\n",
    "qualtircs_data = pd_data.T.to_numpy(dtype=int)\n",
    "print(qualtircs_data)"
   ]
  },
  {
   "cell_type": "code",
   "execution_count": 89,
   "metadata": {},
   "outputs": [
    {
     "name": "stdout",
     "output_type": "stream",
     "text": [
      "[17, 23, 35, 39, 22, 25, 22, 28, 29, 17, 24]\n"
     ]
    }
   ],
   "source": [
    "project_path = os.path.dirname(os.path.dirname((os.path.abspath(''))))\n",
    "dict_path = os.path.join(project_path, \"dict_data\")\n",
    "\n",
    "data_list = []\n",
    "\n",
    "for filename in os.listdir(dict_path):\n",
    "    if filename.startswith('exp_exp_') and filename.endswith('.json'):\n",
    "        file_path = os.path.join(dict_path, filename)\n",
    "        with open(file_path, 'r') as file:\n",
    "            data = json.load(file)\n",
    "            data_list.append(data)\n",
    "\n",
    "\n",
    "print([len(data) for data in data_list])\n",
    "\n",
    "hf_per_traj = []\n",
    "delay_per_traj = []\n",
    "reward_per_traj = []\n",
    "reward_for_box_plt = [[],[],[],[],[]]\n",
    "# loop over the data\n",
    "for i, iter in enumerate(data_list):\n",
    "    hf_values = []\n",
    "    delay = []\n",
    "    objective_rewards = []\n",
    "    for j, data in enumerate(iter):\n",
    "        if data['obs_before'] is None or data['obs_after'] is None or data['hf'] is None:\n",
    "            continue\n",
    "        if np.isnan(data['hf'][\"hf_value\"]):\n",
    "            continue\n",
    "        hf_values.append(np.array(data['hf'][\"hf_value\"]))\n",
    "        objective_rewards.append(euclidean_distance_to_car_difference(np.array(data['obs_before'][\"cartesian_state\"]), np.array(data['obs_after'][\"cartesian_state\"])))\n",
    "        hf_value = int(data['hf'][\"hf_value\"])\n",
    "        reward_for_box_plt[hf_value + 2].append(euclidean_distance_to_car_difference(np.array(data['obs_before'][\"cartesian_state\"]), np.array(data['obs_after'][\"cartesian_state\"])))\n",
    "        delay.append(data['hf'][\"delay\"])\n",
    "    hf_per_traj.append(hf_values)\n",
    "\n",
    "    reward_per_traj.append(objective_rewards)\n",
    "    delay_per_traj.append(delay)\n",
    "\n"
   ]
  },
  {
   "cell_type": "code",
   "execution_count": 90,
   "metadata": {},
   "outputs": [],
   "source": [
    "average_delay_per_traj = [] \n",
    "for delay_traj in delay_per_traj:\n",
    "    delay_traj = np.array(delay_traj)\n",
    "    average_delay_per_traj.append(np.mean(delay_traj[~np.isnan(delay_traj)]))"
   ]
  },
  {
   "cell_type": "code",
   "execution_count": 91,
   "metadata": {},
   "outputs": [
    {
     "name": "stdout",
     "output_type": "stream",
     "text": [
      "nan\n",
      "0.12072978323693702\n",
      "0.25644564382476265\n",
      "0.04701391809753534\n",
      "0.48368971799068905\n",
      "0.4479436129672211\n",
      "-0.24657879343897937\n",
      "0.5204890632291775\n",
      "0.07496764435244697\n",
      "-0.10378256628432223\n",
      "-0.07328134582558354\n",
      "0.09582548298863025\n"
     ]
    },
    {
     "name": "stderr",
     "output_type": "stream",
     "text": [
      "/tmp/ipykernel_8919/3045493864.py:2: ConstantInputWarning: An input array is constant; the correlation coefficient is not defined.\n",
      "  correlation, _ = pearsonr(qualtircs_data[i], average_delay_per_traj)\n"
     ]
    }
   ],
   "source": [
    "for i in range(len(qualtircs_data)):\n",
    "    correlation, _ = pearsonr(qualtircs_data[i], average_delay_per_traj)\n",
    "    print(correlation)"
   ]
  },
  {
   "cell_type": "code",
   "execution_count": null,
   "metadata": {},
   "outputs": [],
   "source": [
    "# abs_err = np.abs(np.array(reward_per_traj) - np.array())\n",
    "# for i in range(len(qualtircs_data)):\n",
    "#     correlation, _ = pearsonr(qualtircs_data[i], average_delay_per_traj)\n",
    "#     print(correlation)"
   ]
  }
 ],
 "metadata": {
  "kernelspec": {
   "display_name": "qd",
   "language": "python",
   "name": "python3"
  },
  "language_info": {
   "codemirror_mode": {
    "name": "ipython",
    "version": 3
   },
   "file_extension": ".py",
   "mimetype": "text/x-python",
   "name": "python",
   "nbconvert_exporter": "python",
   "pygments_lexer": "ipython3",
   "version": "3.9.19"
  }
 },
 "nbformat": 4,
 "nbformat_minor": 2
}
